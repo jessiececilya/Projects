{
  "nbformat": 4,
  "nbformat_minor": 0,
  "metadata": {
    "colab": {
      "name": "NLP trial",
      "provenance": [],
      "collapsed_sections": [],
      "authorship_tag": "ABX9TyNhuoXBEgSFBCqOBA/3uS2H",
      "include_colab_link": true
    },
    "kernelspec": {
      "name": "python3",
      "display_name": "Python 3"
    }
  },
  "cells": [
    {
      "cell_type": "markdown",
      "metadata": {
        "id": "view-in-github",
        "colab_type": "text"
      },
      "source": [
        "<a href=\"https://colab.research.google.com/github/jessiececilya/Projects/blob/main/NLP_Spooky%20Authors.ipynb\" target=\"_parent\"><img src=\"https://colab.research.google.com/assets/colab-badge.svg\" alt=\"Open In Colab\"/></a>"
      ]
    },
    {
      "cell_type": "code",
      "metadata": {
        "id": "aOysiHQQjAit"
      },
      "source": [
        "import pandas as pd\r\n",
        "import numpy as np\r\n",
        "import xgboost as xgb\r\n",
        "from tqdm import tqdm\r\n",
        "from sklearn.svm import SVC\r\n",
        "from keras.models import Sequential\r\n",
        "from keras.layers.recurrent import LSTM, GRU\r\n",
        "from keras.layers.core import Dense, Activation, Dropout\r\n",
        "from keras.layers.embeddings import Embedding\r\n",
        "from keras.layers.normalization import BatchNormalization\r\n",
        "from keras.utils import np_utils\r\n",
        "from sklearn import preprocessing, decomposition, model_selection, metrics, pipeline\r\n",
        "from sklearn.model_selection import GridSearchCV\r\n",
        "from sklearn.feature_extraction.text import TfidfVectorizer, CountVectorizer\r\n",
        "from sklearn.decomposition import TruncatedSVD\r\n",
        "from sklearn.linear_model import LogisticRegression\r\n",
        "from sklearn.model_selection import train_test_split\r\n",
        "from sklearn.naive_bayes import MultinomialNB\r\n",
        "from keras.layers import GlobalMaxPooling1D, Conv1D, MaxPooling1D, Flatten, Bidirectional, SpatialDropout1D\r\n",
        "from keras.preprocessing import sequence, text\r\n",
        "from keras.callbacks import EarlyStopping\r\n",
        "from nltk import word_tokenize\r\n",
        "from nltk.corpus import stopwords\r\n",
        "import nltk\r\n"
      ],
      "execution_count": 1,
      "outputs": []
    },
    {
      "cell_type": "code",
      "metadata": {
        "colab": {
          "base_uri": "https://localhost:8080/"
        },
        "id": "v55A0xl_jBFA",
        "outputId": "3e038c9a-5227-4df3-d1d1-17ee356661bb"
      },
      "source": [
        "nltk.download('stopwords')"
      ],
      "execution_count": 2,
      "outputs": [
        {
          "output_type": "stream",
          "text": [
            "[nltk_data] Downloading package stopwords to /root/nltk_data...\n",
            "[nltk_data]   Unzipping corpora/stopwords.zip.\n"
          ],
          "name": "stdout"
        },
        {
          "output_type": "execute_result",
          "data": {
            "text/plain": [
              "True"
            ]
          },
          "metadata": {
            "tags": []
          },
          "execution_count": 2
        }
      ]
    },
    {
      "cell_type": "code",
      "metadata": {
        "id": "Kmpn_scZkWOi"
      },
      "source": [
        "stop_words = stopwords.words('english')"
      ],
      "execution_count": 3,
      "outputs": []
    },
    {
      "cell_type": "code",
      "metadata": {
        "id": "8IA5cj4VkkNH"
      },
      "source": [
        "train= pd.read_csv('https://raw.githubusercontent.com/jessiececilya/ML-Data/main/Spooky%20Author%20Identification/train.csv')\r\n",
        "test= pd.read_csv('https://raw.githubusercontent.com/jessiececilya/ML-Data/main/Spooky%20Author%20Identification/test.csv')\r\n",
        "sample= pd.read_csv('https://raw.githubusercontent.com/jessiececilya/ML-Data/main/Spooky%20Author%20Identification/sample_submission.csv')"
      ],
      "execution_count": 4,
      "outputs": []
    },
    {
      "cell_type": "code",
      "metadata": {
        "colab": {
          "base_uri": "https://localhost:8080/",
          "height": 204
        },
        "id": "eDVMXKD9lJ08",
        "outputId": "bfe7f98b-672c-4acd-c938-8d72884a9953"
      },
      "source": [
        "train.head()"
      ],
      "execution_count": 5,
      "outputs": [
        {
          "output_type": "execute_result",
          "data": {
            "text/html": [
              "<div>\n",
              "<style scoped>\n",
              "    .dataframe tbody tr th:only-of-type {\n",
              "        vertical-align: middle;\n",
              "    }\n",
              "\n",
              "    .dataframe tbody tr th {\n",
              "        vertical-align: top;\n",
              "    }\n",
              "\n",
              "    .dataframe thead th {\n",
              "        text-align: right;\n",
              "    }\n",
              "</style>\n",
              "<table border=\"1\" class=\"dataframe\">\n",
              "  <thead>\n",
              "    <tr style=\"text-align: right;\">\n",
              "      <th></th>\n",
              "      <th>id</th>\n",
              "      <th>text</th>\n",
              "      <th>author</th>\n",
              "    </tr>\n",
              "  </thead>\n",
              "  <tbody>\n",
              "    <tr>\n",
              "      <th>0</th>\n",
              "      <td>id26305</td>\n",
              "      <td>This process, however, afforded me no means of...</td>\n",
              "      <td>EAP</td>\n",
              "    </tr>\n",
              "    <tr>\n",
              "      <th>1</th>\n",
              "      <td>id17569</td>\n",
              "      <td>It never once occurred to me that the fumbling...</td>\n",
              "      <td>HPL</td>\n",
              "    </tr>\n",
              "    <tr>\n",
              "      <th>2</th>\n",
              "      <td>id11008</td>\n",
              "      <td>In his left hand was a gold snuff box, from wh...</td>\n",
              "      <td>EAP</td>\n",
              "    </tr>\n",
              "    <tr>\n",
              "      <th>3</th>\n",
              "      <td>id27763</td>\n",
              "      <td>How lovely is spring As we looked from Windsor...</td>\n",
              "      <td>MWS</td>\n",
              "    </tr>\n",
              "    <tr>\n",
              "      <th>4</th>\n",
              "      <td>id12958</td>\n",
              "      <td>Finding nothing else, not even gold, the Super...</td>\n",
              "      <td>HPL</td>\n",
              "    </tr>\n",
              "  </tbody>\n",
              "</table>\n",
              "</div>"
            ],
            "text/plain": [
              "        id                                               text author\n",
              "0  id26305  This process, however, afforded me no means of...    EAP\n",
              "1  id17569  It never once occurred to me that the fumbling...    HPL\n",
              "2  id11008  In his left hand was a gold snuff box, from wh...    EAP\n",
              "3  id27763  How lovely is spring As we looked from Windsor...    MWS\n",
              "4  id12958  Finding nothing else, not even gold, the Super...    HPL"
            ]
          },
          "metadata": {
            "tags": []
          },
          "execution_count": 5
        }
      ]
    },
    {
      "cell_type": "code",
      "metadata": {
        "colab": {
          "base_uri": "https://localhost:8080/",
          "height": 204
        },
        "id": "UDlphlWdlLrR",
        "outputId": "f63b93da-f6a7-4bba-850d-43b1cfb3a398"
      },
      "source": [
        "test.head()"
      ],
      "execution_count": 6,
      "outputs": [
        {
          "output_type": "execute_result",
          "data": {
            "text/html": [
              "<div>\n",
              "<style scoped>\n",
              "    .dataframe tbody tr th:only-of-type {\n",
              "        vertical-align: middle;\n",
              "    }\n",
              "\n",
              "    .dataframe tbody tr th {\n",
              "        vertical-align: top;\n",
              "    }\n",
              "\n",
              "    .dataframe thead th {\n",
              "        text-align: right;\n",
              "    }\n",
              "</style>\n",
              "<table border=\"1\" class=\"dataframe\">\n",
              "  <thead>\n",
              "    <tr style=\"text-align: right;\">\n",
              "      <th></th>\n",
              "      <th>id</th>\n",
              "      <th>text</th>\n",
              "    </tr>\n",
              "  </thead>\n",
              "  <tbody>\n",
              "    <tr>\n",
              "      <th>0</th>\n",
              "      <td>id02310</td>\n",
              "      <td>Still, as I urged our leaving Ireland with suc...</td>\n",
              "    </tr>\n",
              "    <tr>\n",
              "      <th>1</th>\n",
              "      <td>id24541</td>\n",
              "      <td>If a fire wanted fanning, it could readily be ...</td>\n",
              "    </tr>\n",
              "    <tr>\n",
              "      <th>2</th>\n",
              "      <td>id00134</td>\n",
              "      <td>And when they had broken down the frail door t...</td>\n",
              "    </tr>\n",
              "    <tr>\n",
              "      <th>3</th>\n",
              "      <td>id27757</td>\n",
              "      <td>While I was thinking how I should possibly man...</td>\n",
              "    </tr>\n",
              "    <tr>\n",
              "      <th>4</th>\n",
              "      <td>id04081</td>\n",
              "      <td>I am not sure to what limit his knowledge may ...</td>\n",
              "    </tr>\n",
              "  </tbody>\n",
              "</table>\n",
              "</div>"
            ],
            "text/plain": [
              "        id                                               text\n",
              "0  id02310  Still, as I urged our leaving Ireland with suc...\n",
              "1  id24541  If a fire wanted fanning, it could readily be ...\n",
              "2  id00134  And when they had broken down the frail door t...\n",
              "3  id27757  While I was thinking how I should possibly man...\n",
              "4  id04081  I am not sure to what limit his knowledge may ..."
            ]
          },
          "metadata": {
            "tags": []
          },
          "execution_count": 6
        }
      ]
    },
    {
      "cell_type": "code",
      "metadata": {
        "colab": {
          "base_uri": "https://localhost:8080/",
          "height": 204
        },
        "id": "MMYAmTsFlNA9",
        "outputId": "dab89792-9560-4ebc-cc90-7ac459430a6c"
      },
      "source": [
        "sample.head()"
      ],
      "execution_count": 7,
      "outputs": [
        {
          "output_type": "execute_result",
          "data": {
            "text/html": [
              "<div>\n",
              "<style scoped>\n",
              "    .dataframe tbody tr th:only-of-type {\n",
              "        vertical-align: middle;\n",
              "    }\n",
              "\n",
              "    .dataframe tbody tr th {\n",
              "        vertical-align: top;\n",
              "    }\n",
              "\n",
              "    .dataframe thead th {\n",
              "        text-align: right;\n",
              "    }\n",
              "</style>\n",
              "<table border=\"1\" class=\"dataframe\">\n",
              "  <thead>\n",
              "    <tr style=\"text-align: right;\">\n",
              "      <th></th>\n",
              "      <th>id</th>\n",
              "      <th>EAP</th>\n",
              "      <th>HPL</th>\n",
              "      <th>MWS</th>\n",
              "    </tr>\n",
              "  </thead>\n",
              "  <tbody>\n",
              "    <tr>\n",
              "      <th>0</th>\n",
              "      <td>id02310</td>\n",
              "      <td>0.403494</td>\n",
              "      <td>0.287808</td>\n",
              "      <td>0.308698</td>\n",
              "    </tr>\n",
              "    <tr>\n",
              "      <th>1</th>\n",
              "      <td>id24541</td>\n",
              "      <td>0.403494</td>\n",
              "      <td>0.287808</td>\n",
              "      <td>0.308698</td>\n",
              "    </tr>\n",
              "    <tr>\n",
              "      <th>2</th>\n",
              "      <td>id00134</td>\n",
              "      <td>0.403494</td>\n",
              "      <td>0.287808</td>\n",
              "      <td>0.308698</td>\n",
              "    </tr>\n",
              "    <tr>\n",
              "      <th>3</th>\n",
              "      <td>id27757</td>\n",
              "      <td>0.403494</td>\n",
              "      <td>0.287808</td>\n",
              "      <td>0.308698</td>\n",
              "    </tr>\n",
              "    <tr>\n",
              "      <th>4</th>\n",
              "      <td>id04081</td>\n",
              "      <td>0.403494</td>\n",
              "      <td>0.287808</td>\n",
              "      <td>0.308698</td>\n",
              "    </tr>\n",
              "  </tbody>\n",
              "</table>\n",
              "</div>"
            ],
            "text/plain": [
              "        id       EAP       HPL       MWS\n",
              "0  id02310  0.403494  0.287808  0.308698\n",
              "1  id24541  0.403494  0.287808  0.308698\n",
              "2  id00134  0.403494  0.287808  0.308698\n",
              "3  id27757  0.403494  0.287808  0.308698\n",
              "4  id04081  0.403494  0.287808  0.308698"
            ]
          },
          "metadata": {
            "tags": []
          },
          "execution_count": 7
        }
      ]
    },
    {
      "cell_type": "code",
      "metadata": {
        "id": "0V7rtJy9lPx-"
      },
      "source": [
        "# Logloss evaluation metric\r\n",
        "def multiclass_logloss(actual, predicted, eps=1e-15):\r\n",
        "    \"\"\"Multi class version of Logarithmic Loss metric.\r\n",
        "    :param actual: Array containing the actual target classes\r\n",
        "    :param predicted: Matrix with class predictions, one probability per class\r\n",
        "    \"\"\"\r\n",
        "    # Convert 'actual' to a binary array if it's not already:\r\n",
        "    if len(actual.shape) == 1:\r\n",
        "        actual2 = np.zeros((actual.shape[0], predicted.shape[1]))\r\n",
        "        for i, val in enumerate(actual):\r\n",
        "            actual2[i, val] = 1\r\n",
        "        actual = actual2\r\n",
        "\r\n",
        "    clip = np.clip(predicted, eps, 1 - eps)\r\n",
        "    rows = actual.shape[0]\r\n",
        "    vsota = np.sum(actual * np.log(clip))\r\n",
        "    return -1.0 / rows * vsota"
      ],
      "execution_count": 8,
      "outputs": []
    },
    {
      "cell_type": "code",
      "metadata": {
        "id": "oAEMOnMHltu2"
      },
      "source": [
        "#Label encoder to convert text labels to integers\r\n",
        "lbl_enc = preprocessing.LabelEncoder()\r\n",
        "y = lbl_enc.fit_transform(train.author.values)"
      ],
      "execution_count": 10,
      "outputs": []
    },
    {
      "cell_type": "code",
      "metadata": {
        "id": "IJEm62hQl5Lw"
      },
      "source": [
        "xtrain, xvalid, ytrain, yvalid = train_test_split(train.text.values, y, \r\n",
        "                                                  stratify=y, \r\n",
        "                                                  random_state=42, \r\n",
        "                                                  test_size=0.1, shuffle=True)"
      ],
      "execution_count": 12,
      "outputs": []
    },
    {
      "cell_type": "code",
      "metadata": {
        "colab": {
          "base_uri": "https://localhost:8080/"
        },
        "id": "BSX_0jmNpoMZ",
        "outputId": "5a292bd1-680a-4fa0-984d-7316ea992cce"
      },
      "source": [
        "print (xtrain.shape)\r\n",
        "print (xvalid.shape)\r\n"
      ],
      "execution_count": 13,
      "outputs": [
        {
          "output_type": "stream",
          "text": [
            "(17621,)\n",
            "(1958,)\n"
          ],
          "name": "stdout"
        }
      ]
    },
    {
      "cell_type": "code",
      "metadata": {
        "id": "qOPiJa4Kpqj5"
      },
      "source": [
        "#Basic model using TF IDF -> Logistic Regression"
      ],
      "execution_count": 14,
      "outputs": []
    },
    {
      "cell_type": "code",
      "metadata": {
        "id": "D22Hp_yfp1C6"
      },
      "source": [
        "\r\n",
        "tfv = TfidfVectorizer(min_df=3,  max_features=None, \r\n",
        "            strip_accents='unicode', analyzer='word',token_pattern=r'\\w{1,}',\r\n",
        "            ngram_range=(1, 3), use_idf=1,smooth_idf=1,sublinear_tf=1,\r\n",
        "            stop_words = 'english')\r\n",
        "\r\n",
        "# Fitting TF-IDF to both training and test sets (semi-supervised learning)\r\n",
        "tfv.fit(list(xtrain) + list(xvalid))\r\n",
        "xtrain_tfv =  tfv.transform(xtrain) \r\n",
        "xvalid_tfv = tfv.transform(xvalid)"
      ],
      "execution_count": 14,
      "outputs": []
    },
    {
      "cell_type": "code",
      "metadata": {
        "colab": {
          "base_uri": "https://localhost:8080/"
        },
        "id": "X3chEkm-qCoF",
        "outputId": "84b677e2-daee-4536-f3e7-d707ee6e0381"
      },
      "source": [
        "# Fitting a simple Logistic Regression on TFIDF\r\n",
        "clf = LogisticRegression(C=1.0)\r\n",
        "clf.fit(xtrain_tfv, ytrain)\r\n",
        "predictions = clf.predict_proba(xvalid_tfv)\r\n",
        "\r\n",
        "print (\"logloss: %0.3f \" % multiclass_logloss(yvalid, predictions))"
      ],
      "execution_count": 15,
      "outputs": [
        {
          "output_type": "stream",
          "text": [
            "logloss: 0.572 \n"
          ],
          "name": "stdout"
        },
        {
          "output_type": "stream",
          "text": [
            "/usr/local/lib/python3.7/dist-packages/sklearn/linear_model/_logistic.py:940: ConvergenceWarning: lbfgs failed to converge (status=1):\n",
            "STOP: TOTAL NO. of ITERATIONS REACHED LIMIT.\n",
            "\n",
            "Increase the number of iterations (max_iter) or scale the data as shown in:\n",
            "    https://scikit-learn.org/stable/modules/preprocessing.html\n",
            "Please also refer to the documentation for alternative solver options:\n",
            "    https://scikit-learn.org/stable/modules/linear_model.html#logistic-regression\n",
            "  extra_warning_msg=_LOGISTIC_SOLVER_CONVERGENCE_MSG)\n"
          ],
          "name": "stderr"
        }
      ]
    },
    {
      "cell_type": "code",
      "metadata": {
        "id": "4OIyxHxMr0ex"
      },
      "source": [
        "#Use feature engineering\r\n",
        "#word count features\r\n",
        "#Count Vectoriser performs basic prepocessing like removing punctuations, convert words to lowercase "
      ],
      "execution_count": 17,
      "outputs": []
    },
    {
      "cell_type": "code",
      "metadata": {
        "id": "AYmlHWEOtCuF"
      },
      "source": [
        "ctv = CountVectorizer(analyzer='word',token_pattern=r'\\w{1,}',\r\n",
        "            ngram_range=(1, 3), stop_words = 'english')\r\n",
        "\r\n",
        "# Fitting Count Vectorizer to both training and test sets (semi-supervised learning)\r\n",
        "ctv.fit(list(xtrain) + list(xvalid))\r\n",
        "xtrain_ctv =  ctv.transform(xtrain) \r\n",
        "xvalid_ctv = ctv.transform(xvalid)"
      ],
      "execution_count": 16,
      "outputs": []
    },
    {
      "cell_type": "code",
      "metadata": {
        "colab": {
          "base_uri": "https://localhost:8080/"
        },
        "id": "mfWEF_OCtVBz",
        "outputId": "fbc78a2f-faf8-4425-95c1-88e7dd2b073f"
      },
      "source": [
        "# Fitting a simple Logistic Regression on Counts\r\n",
        "clf = LogisticRegression(C=1.0)\r\n",
        "clf.fit(xtrain_ctv, ytrain)\r\n",
        "predictions = clf.predict_proba(xvalid_ctv)\r\n",
        "\r\n",
        "print (\"logloss: %0.3f \" % multiclass_logloss(yvalid, predictions))"
      ],
      "execution_count": 27,
      "outputs": [
        {
          "output_type": "stream",
          "text": [
            "logloss: 0.527 \n"
          ],
          "name": "stdout"
        },
        {
          "output_type": "stream",
          "text": [
            "/usr/local/lib/python3.7/dist-packages/sklearn/linear_model/_logistic.py:940: ConvergenceWarning: lbfgs failed to converge (status=1):\n",
            "STOP: TOTAL NO. of ITERATIONS REACHED LIMIT.\n",
            "\n",
            "Increase the number of iterations (max_iter) or scale the data as shown in:\n",
            "    https://scikit-learn.org/stable/modules/preprocessing.html\n",
            "Please also refer to the documentation for alternative solver options:\n",
            "    https://scikit-learn.org/stable/modules/linear_model.html#logistic-regression\n",
            "  extra_warning_msg=_LOGISTIC_SOLVER_CONVERGENCE_MSG)\n"
          ],
          "name": "stderr"
        }
      ]
    },
    {
      "cell_type": "code",
      "metadata": {
        "colab": {
          "base_uri": "https://localhost:8080/"
        },
        "id": "Xbg08ttMuOlU",
        "outputId": "08d66115-bb77-4937-e7c5-9f11b88f9942"
      },
      "source": [
        "#When we use Naive Bayes instead of logistic regression on TFIDF\r\n",
        "\r\n",
        "clf = MultinomialNB()\r\n",
        "clf.fit(xtrain_tfv, ytrain)\r\n",
        "predictions = clf.predict_proba(xvalid_tfv)\r\n",
        "\r\n",
        "print (\"logloss: %0.3f \" % multiclass_logloss(yvalid, predictions))"
      ],
      "execution_count": 28,
      "outputs": [
        {
          "output_type": "stream",
          "text": [
            "logloss: 0.578 \n"
          ],
          "name": "stdout"
        }
      ]
    },
    {
      "cell_type": "code",
      "metadata": {
        "colab": {
          "base_uri": "https://localhost:8080/"
        },
        "id": "XJsaahfdupwt",
        "outputId": "d7d835bf-0104-41ef-f42f-06e4610626d1"
      },
      "source": [
        "# Fitting a simple Naive Bayes on Counts\r\n",
        "clf = MultinomialNB()\r\n",
        "clf.fit(xtrain_ctv, ytrain)\r\n",
        "predictions = clf.predict_proba(xvalid_ctv)\r\n",
        "\r\n",
        "print (\"logloss: %0.3f \" % multiclass_logloss(yvalid, predictions))"
      ],
      "execution_count": 29,
      "outputs": [
        {
          "output_type": "stream",
          "text": [
            "logloss: 0.485 \n"
          ],
          "name": "stdout"
        }
      ]
    },
    {
      "cell_type": "code",
      "metadata": {
        "colab": {
          "base_uri": "https://localhost:8080/",
          "height": 231
        },
        "id": "4-C2w3mFuuDa",
        "outputId": "3e49e647-37db-4bcd-dfbd-9c89bfe7e3e7"
      },
      "source": [
        "#Try SVM , reduce tfidf features using single value decomposition to 120\r\n",
        "svd = decomposition.TruncatedSVD(n_components=120)\r\n",
        "svd.fit(xtrain_tfv)\r\n",
        "xtrain_svd = svd.transform(xtrain_tfv)\r\n",
        "xvalid_svd = svd.transform(xvalid_tfv)\r\n",
        "\r\n",
        "# Scale the data obtained from SVD. Renaming variable to reuse without scaling.\r\n",
        "scl = preprocessing.StandardScaler()\r\n",
        "scl.fit(xtrain_svd)\r\n",
        "xtrain_svd_scl = scl.transform(xtrain_svd)\r\n",
        "xvalid_svd_scl = scl.transform(xvalid_svd)"
      ],
      "execution_count": 1,
      "outputs": [
        {
          "output_type": "error",
          "ename": "NameError",
          "evalue": "ignored",
          "traceback": [
            "\u001b[0;31m---------------------------------------------------------------------------\u001b[0m",
            "\u001b[0;31mNameError\u001b[0m                                 Traceback (most recent call last)",
            "\u001b[0;32m<ipython-input-1-5624f4a5bd08>\u001b[0m in \u001b[0;36m<module>\u001b[0;34m()\u001b[0m\n\u001b[1;32m      1\u001b[0m \u001b[0;31m#Try SVM , reduce tfidf features using single value decomposition to 120\u001b[0m\u001b[0;34m\u001b[0m\u001b[0;34m\u001b[0m\u001b[0;34m\u001b[0m\u001b[0m\n\u001b[0;32m----> 2\u001b[0;31m \u001b[0msvd\u001b[0m \u001b[0;34m=\u001b[0m \u001b[0mdecomposition\u001b[0m\u001b[0;34m.\u001b[0m\u001b[0mTruncatedSVD\u001b[0m\u001b[0;34m(\u001b[0m\u001b[0mn_components\u001b[0m\u001b[0;34m=\u001b[0m\u001b[0;36m120\u001b[0m\u001b[0;34m)\u001b[0m\u001b[0;34m\u001b[0m\u001b[0;34m\u001b[0m\u001b[0m\n\u001b[0m\u001b[1;32m      3\u001b[0m \u001b[0msvd\u001b[0m\u001b[0;34m.\u001b[0m\u001b[0mfit\u001b[0m\u001b[0;34m(\u001b[0m\u001b[0mxtrain_tfv\u001b[0m\u001b[0;34m)\u001b[0m\u001b[0;34m\u001b[0m\u001b[0;34m\u001b[0m\u001b[0m\n\u001b[1;32m      4\u001b[0m \u001b[0mxtrain_svd\u001b[0m \u001b[0;34m=\u001b[0m \u001b[0msvd\u001b[0m\u001b[0;34m.\u001b[0m\u001b[0mtransform\u001b[0m\u001b[0;34m(\u001b[0m\u001b[0mxtrain_tfv\u001b[0m\u001b[0;34m)\u001b[0m\u001b[0;34m\u001b[0m\u001b[0;34m\u001b[0m\u001b[0m\n\u001b[1;32m      5\u001b[0m \u001b[0mxvalid_svd\u001b[0m \u001b[0;34m=\u001b[0m \u001b[0msvd\u001b[0m\u001b[0;34m.\u001b[0m\u001b[0mtransform\u001b[0m\u001b[0;34m(\u001b[0m\u001b[0mxvalid_tfv\u001b[0m\u001b[0;34m)\u001b[0m\u001b[0;34m\u001b[0m\u001b[0;34m\u001b[0m\u001b[0m\n",
            "\u001b[0;31mNameError\u001b[0m: name 'decomposition' is not defined"
          ]
        }
      ]
    },
    {
      "cell_type": "code",
      "metadata": {
        "id": "iS0DcGq3vORO"
      },
      "source": [
        "# Fitting a simple SVM\r\n",
        "clf = SVC(C=1.0, probability=True) # since we need probabilities\r\n",
        "clf.fit(xtrain_svd_scl, ytrain)\r\n",
        "predictions = clf.predict_proba(xvalid_svd_scl)\r\n",
        "\r\n",
        "print (\"logloss: %0.3f \" % multiclass_logloss(yvalid, predictions))"
      ],
      "execution_count": null,
      "outputs": []
    },
    {
      "cell_type": "code",
      "metadata": {
        "colab": {
          "base_uri": "https://localhost:8080/"
        },
        "id": "JA9mChfRvRIM",
        "outputId": "25e71158-5a95-4f8a-ff35-4aed988504fa"
      },
      "source": [
        "# Fitting a simple xgboost on tf-idf\r\n",
        "clf = xgb.XGBClassifier(max_depth=7, n_estimators=200, colsample_bytree=0.8, \r\n",
        "                        subsample=0.8, nthread=10, learning_rate=0.1)\r\n",
        "clf.fit(xtrain_tfv.tocsc(), ytrain)\r\n",
        "predictions = clf.predict_proba(xvalid_tfv.tocsc())\r\n",
        "\r\n",
        "print (\"logloss: %0.3f \" % multiclass_logloss(yvalid, predictions))"
      ],
      "execution_count": 34,
      "outputs": [
        {
          "output_type": "execute_result",
          "data": {
            "text/plain": [
              "array([[ 0.04189849, -0.00796227, -0.00540905, ...,  0.01876499,\n",
              "        -0.02502242, -0.02128101],\n",
              "       [ 0.08478489,  0.22548524,  0.00429022, ..., -0.00471413,\n",
              "         0.01605665,  0.02625516],\n",
              "       [ 0.05793678, -0.02002827,  0.00088081, ..., -0.00402619,\n",
              "        -0.00093539,  0.08059105],\n",
              "       ...,\n",
              "       [ 0.02381323,  0.00068934, -0.00050201, ...,  0.02871471,\n",
              "        -0.03978831, -0.03585606],\n",
              "       [ 0.08784979, -0.00656414, -0.00979471, ...,  0.00486418,\n",
              "        -0.01160539, -0.03543211],\n",
              "       [ 0.01994041, -0.00104267, -0.00035038, ...,  0.00260477,\n",
              "        -0.00653221,  0.00498702]])"
            ]
          },
          "metadata": {
            "tags": []
          },
          "execution_count": 34
        }
      ]
    },
    {
      "cell_type": "code",
      "metadata": {
        "id": "CENGnZ3mvUnv"
      },
      "source": [
        "# Fitting a simple xgboost on tf-idf\r\n",
        "clf = xgb.XGBClassifier(max_depth=7, n_estimators=200, colsample_bytree=0.8, \r\n",
        "                        subsample=0.8, nthread=10, learning_rate=0.1)\r\n",
        "clf.fit(xtrain_ctv.tocsc(), ytrain)\r\n",
        "predictions = clf.predict_proba(xvalid_ctv.tocsc())\r\n",
        "\r\n",
        "print (\"logloss: %0.3f \" % multiclass_logloss(yvalid, predictions))"
      ],
      "execution_count": null,
      "outputs": []
    },
    {
      "cell_type": "code",
      "metadata": {
        "id": "P3fGm7HlvopM"
      },
      "source": [
        "# Fitting a simple xgboost on tf-idf svd features\r\n",
        "clf = xgb.XGBClassifier(max_depth=7, n_estimators=200, colsample_bytree=0.8, \r\n",
        "                        subsample=0.8, nthread=10, learning_rate=0.1)\r\n",
        "clf.fit(xtrain_svd, ytrain)\r\n",
        "predictions = clf.predict_proba(xvalid_svd)\r\n",
        "\r\n",
        "print (\"logloss: %0.3f \" % multiclass_logloss(yvalid, predictions))"
      ],
      "execution_count": null,
      "outputs": []
    },
    {
      "cell_type": "code",
      "metadata": {
        "id": "vlVe0zQWvpcI"
      },
      "source": [
        "# Fitting a simple xgboost on tf-idf svd features\r\n",
        "clf = xgb.XGBClassifier(nthread=10)\r\n",
        "clf.fit(xtrain_svd, ytrain)\r\n",
        "predictions = clf.predict_proba(xvalid_svd)\r\n",
        "\r\n",
        "print (\"logloss: %0.3f \" % multiclass_logloss(yvalid, predictions))"
      ],
      "execution_count": null,
      "outputs": []
    },
    {
      "cell_type": "code",
      "metadata": {
        "id": "x5__-v4yhe7d"
      },
      "source": [
        "#Grid search"
      ],
      "execution_count": 17,
      "outputs": []
    },
    {
      "cell_type": "code",
      "metadata": {
        "id": "amwEQWD6hgwR"
      },
      "source": [
        "mll_scorer = metrics.make_scorer(multiclass_logloss, greater_is_better=False, needs_proba=True)"
      ],
      "execution_count": 18,
      "outputs": []
    },
    {
      "cell_type": "code",
      "metadata": {
        "id": "z-F9PHJShnfY"
      },
      "source": [
        "#Using SVD, Scaling and Logistic regression\r\n",
        "\r\n",
        "# Initialize SVD\r\n",
        "svd = TruncatedSVD()\r\n",
        "    \r\n",
        "# Initialize the standard scaler \r\n",
        "scl = preprocessing.StandardScaler()\r\n",
        "\r\n",
        "# We will use logistic regression here..\r\n",
        "lr_model = LogisticRegression()\r\n",
        "\r\n",
        "# Create the pipeline \r\n",
        "clf = pipeline.Pipeline([('svd', svd),\r\n",
        "                         ('scl', scl),\r\n",
        "                         ('lr', lr_model)])"
      ],
      "execution_count": 19,
      "outputs": []
    },
    {
      "cell_type": "code",
      "metadata": {
        "id": "15ox2di2iLHa"
      },
      "source": [
        "#Defining parameters for grid search\r\n",
        "param_grid = {'svd__n_components' : [120, 180],\r\n",
        "              'lr__C': [0.1, 1.0, 10], \r\n",
        "              'lr__penalty': ['l1', 'l2']}"
      ],
      "execution_count": 20,
      "outputs": []
    },
    {
      "cell_type": "code",
      "metadata": {
        "colab": {
          "base_uri": "https://localhost:8080/"
        },
        "id": "YdxhQ1amiTvE",
        "outputId": "57cef037-d048-4821-93d8-c2741795fe16"
      },
      "source": [
        "# Initialize Grid Search Model\r\n",
        "model = GridSearchCV(estimator=clf, param_grid=param_grid, scoring=mll_scorer,\r\n",
        "                                 verbose=10, n_jobs=-1, iid=True, refit=True, cv=2)\r\n",
        "\r\n",
        "# Fit Grid Search Model\r\n",
        "model.fit(xtrain_tfv, ytrain)  # we can use the full data here but im only using xtrain\r\n",
        "print(\"Best score: %0.3f\" % model.best_score_)\r\n",
        "print(\"Best parameters set:\")\r\n",
        "best_parameters = model.best_estimator_.get_params()\r\n",
        "for param_name in sorted(param_grid.keys()):\r\n",
        "    print(\"\\t%s: %r\" % (param_name, best_parameters[param_name]))"
      ],
      "execution_count": 21,
      "outputs": [
        {
          "output_type": "stream",
          "text": [
            "Fitting 2 folds for each of 12 candidates, totalling 24 fits\n"
          ],
          "name": "stdout"
        },
        {
          "output_type": "stream",
          "text": [
            "[Parallel(n_jobs=-1)]: Using backend LokyBackend with 2 concurrent workers.\n",
            "[Parallel(n_jobs=-1)]: Done   1 tasks      | elapsed:    2.7s\n",
            "[Parallel(n_jobs=-1)]: Done   4 tasks      | elapsed:    5.7s\n",
            "[Parallel(n_jobs=-1)]: Done   9 tasks      | elapsed:   13.6s\n",
            "[Parallel(n_jobs=-1)]: Done  14 tasks      | elapsed:   18.8s\n",
            "[Parallel(n_jobs=-1)]: Done  21 tasks      | elapsed:   29.2s\n",
            "[Parallel(n_jobs=-1)]: Done  24 out of  24 | elapsed:   33.0s remaining:    0.0s\n",
            "[Parallel(n_jobs=-1)]: Done  24 out of  24 | elapsed:   33.0s finished\n",
            "/usr/local/lib/python3.7/dist-packages/sklearn/model_selection/_search.py:823: FutureWarning: The parameter 'iid' is deprecated in 0.22 and will be removed in 0.24.\n",
            "  \"removed in 0.24.\", FutureWarning\n"
          ],
          "name": "stderr"
        },
        {
          "output_type": "stream",
          "text": [
            "Best score: -0.737\n",
            "Best parameters set:\n",
            "\tlr__C: 0.1\n",
            "\tlr__penalty: 'l2'\n",
            "\tsvd__n_components: 180\n"
          ],
          "name": "stdout"
        }
      ]
    },
    {
      "cell_type": "code",
      "metadata": {
        "colab": {
          "base_uri": "https://localhost:8080/"
        },
        "id": "IuHFD1OojjST",
        "outputId": "15bc041c-717a-4a81-d1c0-ace9b978a3a6"
      },
      "source": [
        "#Naive Bayes \r\n",
        "nb_model = MultinomialNB()\r\n",
        "\r\n",
        "# Create the pipeline \r\n",
        "clf = pipeline.Pipeline([('nb', nb_model)])\r\n",
        "\r\n",
        "# parameter grid\r\n",
        "param_grid = {'nb__alpha': [0.001, 0.01, 0.1, 1, 10, 100]}\r\n",
        "\r\n",
        "# Initialize Grid Search Model\r\n",
        "model = GridSearchCV(estimator=clf, param_grid=param_grid, scoring=mll_scorer,\r\n",
        "                                 verbose=10, n_jobs=-1, iid=True, refit=True, cv=2)\r\n",
        "\r\n",
        "# Fit Grid Search Model\r\n",
        "model.fit(xtrain_tfv, ytrain)  # we can use the full data here but im only using xtrain. \r\n",
        "print(\"Best score: %0.3f\" % model.best_score_)\r\n",
        "print(\"Best parameters set:\")\r\n",
        "best_parameters = model.best_estimator_.get_params()\r\n",
        "for param_name in sorted(param_grid.keys()):\r\n",
        "    print(\"\\t%s: %r\" % (param_name, best_parameters[param_name]))"
      ],
      "execution_count": 22,
      "outputs": [
        {
          "output_type": "stream",
          "text": [
            "Fitting 2 folds for each of 6 candidates, totalling 12 fits\n"
          ],
          "name": "stdout"
        },
        {
          "output_type": "stream",
          "text": [
            "[Parallel(n_jobs=-1)]: Using backend LokyBackend with 2 concurrent workers.\n",
            "[Parallel(n_jobs=-1)]: Done   1 tasks      | elapsed:    0.0s\n",
            "[Parallel(n_jobs=-1)]: Batch computation too fast (0.0419s.) Setting batch_size=2.\n",
            "[Parallel(n_jobs=-1)]: Done   4 tasks      | elapsed:    0.1s\n",
            "[Parallel(n_jobs=-1)]: Batch computation too fast (0.0921s.) Setting batch_size=4.\n"
          ],
          "name": "stderr"
        },
        {
          "output_type": "stream",
          "text": [
            "Best score: -0.492\n",
            "Best parameters set:\n",
            "\tnb__alpha: 0.1\n"
          ],
          "name": "stdout"
        },
        {
          "output_type": "stream",
          "text": [
            "[Parallel(n_jobs=-1)]: Done  12 out of  12 | elapsed:    0.2s finished\n",
            "/usr/local/lib/python3.7/dist-packages/sklearn/model_selection/_search.py:823: FutureWarning: The parameter 'iid' is deprecated in 0.22 and will be removed in 0.24.\n",
            "  \"removed in 0.24.\", FutureWarning\n"
          ],
          "name": "stderr"
        }
      ]
    },
    {
      "cell_type": "code",
      "metadata": {
        "id": "fkGiYMMoj__k"
      },
      "source": [
        "#Word Vectors"
      ],
      "execution_count": 23,
      "outputs": []
    },
    {
      "cell_type": "code",
      "metadata": {
        "colab": {
          "resources": {
            "http://localhost:8080/nbextensions/google.colab/files.js": {
              "data": "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",
              "ok": true,
              "headers": [
                [
                  "content-type",
                  "application/javascript"
                ]
              ],
              "status": 200,
              "status_text": ""
            }
          },
          "base_uri": "https://localhost:8080/",
          "height": 344
        },
        "id": "PJxX6wqXzGqE",
        "outputId": "681eb54f-d5f2-4e9d-efe2-c3e04fd227fe"
      },
      "source": [
        "from google.colab import files\r\n",
        "files.upload()"
      ],
      "execution_count": 37,
      "outputs": [
        {
          "output_type": "display_data",
          "data": {
            "text/html": [
              "\n",
              "     <input type=\"file\" id=\"files-d0d224a5-f686-4136-9b52-34142e172cb3\" name=\"files[]\" multiple disabled\n",
              "        style=\"border:none\" />\n",
              "     <output id=\"result-d0d224a5-f686-4136-9b52-34142e172cb3\">\n",
              "      Upload widget is only available when the cell has been executed in the\n",
              "      current browser session. Please rerun this cell to enable.\n",
              "      </output>\n",
              "      <script src=\"/nbextensions/google.colab/files.js\"></script> "
            ],
            "text/plain": [
              "<IPython.core.display.HTML object>"
            ]
          },
          "metadata": {
            "tags": []
          }
        },
        {
          "output_type": "error",
          "ename": "KeyboardInterrupt",
          "evalue": "ignored",
          "traceback": [
            "\u001b[0;31m---------------------------------------------------------------------------\u001b[0m",
            "\u001b[0;31mKeyboardInterrupt\u001b[0m                         Traceback (most recent call last)",
            "\u001b[0;32m<ipython-input-37-5c2e8a8d365b>\u001b[0m in \u001b[0;36m<module>\u001b[0;34m()\u001b[0m\n\u001b[1;32m      1\u001b[0m \u001b[0;32mfrom\u001b[0m \u001b[0mgoogle\u001b[0m\u001b[0;34m.\u001b[0m\u001b[0mcolab\u001b[0m \u001b[0;32mimport\u001b[0m \u001b[0mfiles\u001b[0m\u001b[0;34m\u001b[0m\u001b[0;34m\u001b[0m\u001b[0m\n\u001b[0;32m----> 2\u001b[0;31m \u001b[0mfiles\u001b[0m\u001b[0;34m.\u001b[0m\u001b[0mupload\u001b[0m\u001b[0;34m(\u001b[0m\u001b[0;34m)\u001b[0m\u001b[0;34m\u001b[0m\u001b[0;34m\u001b[0m\u001b[0m\n\u001b[0m",
            "\u001b[0;32m/usr/local/lib/python3.7/dist-packages/google/colab/files.py\u001b[0m in \u001b[0;36mupload\u001b[0;34m()\u001b[0m\n\u001b[1;32m     70\u001b[0m     result = _output.eval_js(\n\u001b[1;32m     71\u001b[0m         'google.colab._files._uploadFilesContinue(\"{output_id}\")'.format(\n\u001b[0;32m---> 72\u001b[0;31m             output_id=output_id))\n\u001b[0m\u001b[1;32m     73\u001b[0m     \u001b[0;32mif\u001b[0m \u001b[0mresult\u001b[0m\u001b[0;34m[\u001b[0m\u001b[0;34m'action'\u001b[0m\u001b[0;34m]\u001b[0m \u001b[0;34m!=\u001b[0m \u001b[0;34m'append'\u001b[0m\u001b[0;34m:\u001b[0m\u001b[0;34m\u001b[0m\u001b[0;34m\u001b[0m\u001b[0m\n\u001b[1;32m     74\u001b[0m       \u001b[0;31m# JS side uses a generator of promises to process all of the files- some\u001b[0m\u001b[0;34m\u001b[0m\u001b[0;34m\u001b[0m\u001b[0;34m\u001b[0m\u001b[0m\n",
            "\u001b[0;32m/usr/local/lib/python3.7/dist-packages/google/colab/output/_js.py\u001b[0m in \u001b[0;36meval_js\u001b[0;34m(script, ignore_result, timeout_sec)\u001b[0m\n\u001b[1;32m     38\u001b[0m   \u001b[0;32mif\u001b[0m \u001b[0mignore_result\u001b[0m\u001b[0;34m:\u001b[0m\u001b[0;34m\u001b[0m\u001b[0;34m\u001b[0m\u001b[0m\n\u001b[1;32m     39\u001b[0m     \u001b[0;32mreturn\u001b[0m\u001b[0;34m\u001b[0m\u001b[0;34m\u001b[0m\u001b[0m\n\u001b[0;32m---> 40\u001b[0;31m   \u001b[0;32mreturn\u001b[0m \u001b[0m_message\u001b[0m\u001b[0;34m.\u001b[0m\u001b[0mread_reply_from_input\u001b[0m\u001b[0;34m(\u001b[0m\u001b[0mrequest_id\u001b[0m\u001b[0;34m,\u001b[0m \u001b[0mtimeout_sec\u001b[0m\u001b[0;34m)\u001b[0m\u001b[0;34m\u001b[0m\u001b[0;34m\u001b[0m\u001b[0m\n\u001b[0m\u001b[1;32m     41\u001b[0m \u001b[0;34m\u001b[0m\u001b[0m\n\u001b[1;32m     42\u001b[0m \u001b[0;34m\u001b[0m\u001b[0m\n",
            "\u001b[0;32m/usr/local/lib/python3.7/dist-packages/google/colab/_message.py\u001b[0m in \u001b[0;36mread_reply_from_input\u001b[0;34m(message_id, timeout_sec)\u001b[0m\n\u001b[1;32m     99\u001b[0m     \u001b[0mreply\u001b[0m \u001b[0;34m=\u001b[0m \u001b[0m_read_next_input_message\u001b[0m\u001b[0;34m(\u001b[0m\u001b[0;34m)\u001b[0m\u001b[0;34m\u001b[0m\u001b[0;34m\u001b[0m\u001b[0m\n\u001b[1;32m    100\u001b[0m     \u001b[0;32mif\u001b[0m \u001b[0mreply\u001b[0m \u001b[0;34m==\u001b[0m \u001b[0m_NOT_READY\u001b[0m \u001b[0;32mor\u001b[0m \u001b[0;32mnot\u001b[0m \u001b[0misinstance\u001b[0m\u001b[0;34m(\u001b[0m\u001b[0mreply\u001b[0m\u001b[0;34m,\u001b[0m \u001b[0mdict\u001b[0m\u001b[0;34m)\u001b[0m\u001b[0;34m:\u001b[0m\u001b[0;34m\u001b[0m\u001b[0;34m\u001b[0m\u001b[0m\n\u001b[0;32m--> 101\u001b[0;31m       \u001b[0mtime\u001b[0m\u001b[0;34m.\u001b[0m\u001b[0msleep\u001b[0m\u001b[0;34m(\u001b[0m\u001b[0;36m0.025\u001b[0m\u001b[0;34m)\u001b[0m\u001b[0;34m\u001b[0m\u001b[0;34m\u001b[0m\u001b[0m\n\u001b[0m\u001b[1;32m    102\u001b[0m       \u001b[0;32mcontinue\u001b[0m\u001b[0;34m\u001b[0m\u001b[0;34m\u001b[0m\u001b[0m\n\u001b[1;32m    103\u001b[0m     if (reply.get('type') == 'colab_reply' and\n",
            "\u001b[0;31mKeyboardInterrupt\u001b[0m: "
          ]
        }
      ]
    },
    {
      "cell_type": "code",
      "metadata": {
        "colab": {
          "base_uri": "https://localhost:8080/",
          "height": 129
        },
        "id": "a3hL6VwrktFN",
        "outputId": "98473d72-dfed-45ee-afea-1cf316178645"
      },
      "source": [
        "# load the GloVe vectors in a dictionary:\r\n",
        "\r\n",
        "embeddings_index = {}\r\n",
        "f = open('')\r\n",
        "for line in tqdm(f):\r\n",
        "    values = line.split()\r\n",
        "    word = values[0]\r\n",
        "    coefs = np.asarray(values[1:], dtype='float32')\r\n",
        "    embeddings_index[word] = coefs\r\n",
        "f.close()\r\n",
        "\r\n",
        "print('Found %s word vectors.' % len(embeddings_index))"
      ],
      "execution_count": 36,
      "outputs": [
        {
          "output_type": "error",
          "ename": "SyntaxError",
          "evalue": "ignored",
          "traceback": [
            "\u001b[0;36m  File \u001b[0;32m\"<ipython-input-36-c480e6f82735>\"\u001b[0;36m, line \u001b[0;32m4\u001b[0m\n\u001b[0;31m    f = open('C:\\Users\\jeban\\Desktop\\python1\\glove.840B.300d')\u001b[0m\n\u001b[0m            ^\u001b[0m\n\u001b[0;31mSyntaxError\u001b[0m\u001b[0;31m:\u001b[0m (unicode error) 'unicodeescape' codec can't decode bytes in position 2-3: truncated \\UXXXXXXXX escape\n"
          ]
        }
      ]
    },
    {
      "cell_type": "code",
      "metadata": {
        "id": "5DqXIkhgzFwT"
      },
      "source": [
        ""
      ],
      "execution_count": null,
      "outputs": []
    },
    {
      "cell_type": "code",
      "metadata": {
        "id": "MG1cRgHkoNlm"
      },
      "source": [
        "# this function creates a normalized vector for the whole sentence\r\n",
        "def sent2vec(s):\r\n",
        "    words = str(s).lower().decode('utf-8')\r\n",
        "    words = word_tokenize(words)\r\n",
        "    words = [w for w in words if not w in stop_words]\r\n",
        "    words = [w for w in words if w.isalpha()]\r\n",
        "    M = []\r\n",
        "    for w in words:\r\n",
        "        try:\r\n",
        "            M.append(embeddings_index[w])\r\n",
        "        except:\r\n",
        "            continue\r\n",
        "    M = np.array(M)\r\n",
        "    v = M.sum(axis=0)\r\n",
        "    if type(v) != np.ndarray:\r\n",
        "        return np.zeros(300)\r\n",
        "    return v / np.sqrt((v ** 2).sum())"
      ],
      "execution_count": null,
      "outputs": []
    },
    {
      "cell_type": "code",
      "metadata": {
        "id": "dvw0I4k-pbZG"
      },
      "source": [
        "# create sentence vectors using the above function for training and validation set\r\n",
        "xtrain_glove = [sent2vec(x) for x in tqdm(xtrain)]\r\n",
        "xvalid_glove = [sent2vec(x) for x in tqdm(xvalid)]"
      ],
      "execution_count": null,
      "outputs": []
    },
    {
      "cell_type": "code",
      "metadata": {
        "id": "oLMmB6ErzinI"
      },
      "source": [
        "xtrain_glove = np.array(xtrain_glove)\r\n",
        "xvalid_glove = np.array(xvalid_glove)"
      ],
      "execution_count": null,
      "outputs": []
    },
    {
      "cell_type": "code",
      "metadata": {
        "id": "3OAUho01zkZB"
      },
      "source": [
        "# Fitting a simple xgboost on glove features\r\n",
        "clf = xgb.XGBClassifier(nthread=10, silent=False)\r\n",
        "clf.fit(xtrain_glove, ytrain)\r\n",
        "predictions = clf.predict_proba(xvalid_glove)\r\n",
        "\r\n",
        "print (\"logloss: %0.3f \" % multiclass_logloss(yvalid, predictions))"
      ],
      "execution_count": null,
      "outputs": []
    },
    {
      "cell_type": "code",
      "metadata": {
        "id": "RiY9KzD3zoDr"
      },
      "source": [
        "# Fitting a simple xgboost on glove features\r\n",
        "clf = xgb.XGBClassifier(max_depth=7, n_estimators=200, colsample_bytree=0.8, \r\n",
        "                        subsample=0.8, nthread=10, learning_rate=0.1, silent=False)\r\n",
        "clf.fit(xtrain_glove, ytrain)\r\n",
        "predictions = clf.predict_proba(xvalid_glove)\r\n",
        "\r\n",
        "print (\"logloss: %0.3f \" % multiclass_logloss(yvalid, predictions))"
      ],
      "execution_count": null,
      "outputs": []
    },
    {
      "cell_type": "code",
      "metadata": {
        "id": "z3jV1CZQ0ffe"
      },
      "source": [
        "#Deep Learning"
      ],
      "execution_count": null,
      "outputs": []
    },
    {
      "cell_type": "code",
      "metadata": {
        "colab": {
          "base_uri": "https://localhost:8080/",
          "height": 214
        },
        "id": "RkL8IjrK0aAY",
        "outputId": "18975a4f-9eea-4b7b-cffe-fcd4733b1f0c"
      },
      "source": [
        "# scale the data before any neural net:\r\n",
        "scl = preprocessing.StandardScaler()\r\n",
        "xtrain_glove_scl = scl.fit_transform(xtrain_glove)\r\n",
        "xvalid_glove_scl = scl.transform(xvalid_glove)"
      ],
      "execution_count": 38,
      "outputs": [
        {
          "output_type": "error",
          "ename": "NameError",
          "evalue": "ignored",
          "traceback": [
            "\u001b[0;31m---------------------------------------------------------------------------\u001b[0m",
            "\u001b[0;31mNameError\u001b[0m                                 Traceback (most recent call last)",
            "\u001b[0;32m<ipython-input-38-159f71aab606>\u001b[0m in \u001b[0;36m<module>\u001b[0;34m()\u001b[0m\n\u001b[1;32m      1\u001b[0m \u001b[0;31m# scale the data before any neural net:\u001b[0m\u001b[0;34m\u001b[0m\u001b[0;34m\u001b[0m\u001b[0;34m\u001b[0m\u001b[0m\n\u001b[1;32m      2\u001b[0m \u001b[0mscl\u001b[0m \u001b[0;34m=\u001b[0m \u001b[0mpreprocessing\u001b[0m\u001b[0;34m.\u001b[0m\u001b[0mStandardScaler\u001b[0m\u001b[0;34m(\u001b[0m\u001b[0;34m)\u001b[0m\u001b[0;34m\u001b[0m\u001b[0;34m\u001b[0m\u001b[0m\n\u001b[0;32m----> 3\u001b[0;31m \u001b[0mxtrain_glove_scl\u001b[0m \u001b[0;34m=\u001b[0m \u001b[0mscl\u001b[0m\u001b[0;34m.\u001b[0m\u001b[0mfit_transform\u001b[0m\u001b[0;34m(\u001b[0m\u001b[0mxtrain_glove\u001b[0m\u001b[0;34m)\u001b[0m\u001b[0;34m\u001b[0m\u001b[0;34m\u001b[0m\u001b[0m\n\u001b[0m\u001b[1;32m      4\u001b[0m \u001b[0mxvalid_glove_scl\u001b[0m \u001b[0;34m=\u001b[0m \u001b[0mscl\u001b[0m\u001b[0;34m.\u001b[0m\u001b[0mtransform\u001b[0m\u001b[0;34m(\u001b[0m\u001b[0mxvalid_glove\u001b[0m\u001b[0;34m)\u001b[0m\u001b[0;34m\u001b[0m\u001b[0;34m\u001b[0m\u001b[0m\n",
            "\u001b[0;31mNameError\u001b[0m: name 'xtrain_glove' is not defined"
          ]
        }
      ]
    },
    {
      "cell_type": "code",
      "metadata": {
        "id": "RSM3D1560iZ3"
      },
      "source": [
        "# we need to binarize the labels for the neural net\r\n",
        "ytrain_enc = np_utils.to_categorical(ytrain)\r\n",
        "yvalid_enc = np_utils.to_categorical(yvalid)"
      ],
      "execution_count": null,
      "outputs": []
    },
    {
      "cell_type": "code",
      "metadata": {
        "id": "Hvhq8qO60jCF"
      },
      "source": [
        "# create a simple 3 layer sequential neural net\r\n",
        "model = Sequential()\r\n",
        "\r\n",
        "model.add(Dense(300, input_dim=300, activation='relu'))\r\n",
        "model.add(Dropout(0.2))\r\n",
        "model.add(BatchNormalization())\r\n",
        "\r\n",
        "model.add(Dense(300, activation='relu'))\r\n",
        "model.add(Dropout(0.3))\r\n",
        "model.add(BatchNormalization())\r\n",
        "\r\n",
        "model.add(Dense(3))\r\n",
        "model.add(Activation('softmax'))\r\n",
        "\r\n",
        "# compile the model\r\n",
        "model.compile(loss='categorical_crossentropy', optimizer='adam')"
      ],
      "execution_count": null,
      "outputs": []
    },
    {
      "cell_type": "code",
      "metadata": {
        "id": "g4ZUtN2_0lCR"
      },
      "source": [
        "model.fit(xtrain_glove_scl, y=ytrain_enc, batch_size=64, \r\n",
        "          epochs=5, verbose=1, \r\n",
        "          validation_data=(xvalid_glove_scl, yvalid_enc))"
      ],
      "execution_count": null,
      "outputs": []
    },
    {
      "cell_type": "code",
      "metadata": {
        "id": "dw0-PmSn0oeE"
      },
      "source": [
        "# using keras tokenizer here\r\n",
        "token = text.Tokenizer(num_words=None)\r\n",
        "max_len = 70\r\n",
        "\r\n",
        "token.fit_on_texts(list(xtrain) + list(xvalid))\r\n",
        "xtrain_seq = token.texts_to_sequences(xtrain)\r\n",
        "xvalid_seq = token.texts_to_sequences(xvalid)\r\n",
        "\r\n",
        "# zero pad the sequences\r\n",
        "xtrain_pad = sequence.pad_sequences(xtrain_seq, maxlen=max_len)\r\n",
        "xvalid_pad = sequence.pad_sequences(xvalid_seq, maxlen=max_len)\r\n",
        "\r\n",
        "word_index = token.word_index"
      ],
      "execution_count": null,
      "outputs": []
    },
    {
      "cell_type": "code",
      "metadata": {
        "id": "iImqeD8D07s5"
      },
      "source": [
        "# create an embedding matrix for the words we have in the dataset\r\n",
        "embedding_matrix = np.zeros((len(word_index) + 1, 300))\r\n",
        "for word, i in tqdm(word_index.items()):\r\n",
        "    embedding_vector = embeddings_index.get(word)\r\n",
        "    if embedding_vector is not None:\r\n",
        "        embedding_matrix[i] = embedding_vector"
      ],
      "execution_count": null,
      "outputs": []
    },
    {
      "cell_type": "code",
      "metadata": {
        "id": "CDXcakXn1QBM"
      },
      "source": [
        "# A simple LSTM with glove embeddings and two dense layers\r\n",
        "model = Sequential()\r\n",
        "model.add(Embedding(len(word_index) + 1,\r\n",
        "                     300,\r\n",
        "                     weights=[embedding_matrix],\r\n",
        "                     input_length=max_len,\r\n",
        "                     trainable=False))\r\n",
        "model.add(SpatialDropout1D(0.3))\r\n",
        "model.add(LSTM(100, dropout=0.3, recurrent_dropout=0.3))\r\n",
        "\r\n",
        "model.add(Dense(1024, activation='relu'))\r\n",
        "model.add(Dropout(0.8))\r\n",
        "\r\n",
        "model.add(Dense(1024, activation='relu'))\r\n",
        "model.add(Dropout(0.8))\r\n",
        "\r\n",
        "model.add(Dense(3))\r\n",
        "model.add(Activation('softmax'))\r\n",
        "model.compile(loss='categorical_crossentropy', optimizer='adam')"
      ],
      "execution_count": null,
      "outputs": []
    },
    {
      "cell_type": "code",
      "metadata": {
        "id": "VpnjjViX1Uez"
      },
      "source": [
        "model.fit(xtrain_pad, y=ytrain_enc, batch_size=512, epochs=100, verbose=1, validation_data=(xvalid_pad, yvalid_enc))"
      ],
      "execution_count": null,
      "outputs": []
    },
    {
      "cell_type": "code",
      "metadata": {
        "id": "1QJ1BGrp1WVt"
      },
      "source": [
        "# A simple LSTM with glove embeddings and two dense layers\r\n",
        "model = Sequential()\r\n",
        "model.add(Embedding(len(word_index) + 1,\r\n",
        "                     300,\r\n",
        "                     weights=[embedding_matrix],\r\n",
        "                     input_length=max_len,\r\n",
        "                     trainable=False))\r\n",
        "model.add(SpatialDropout1D(0.3))\r\n",
        "model.add(LSTM(300, dropout=0.3, recurrent_dropout=0.3))\r\n",
        "\r\n",
        "model.add(Dense(1024, activation='relu'))\r\n",
        "model.add(Dropout(0.8))\r\n",
        "\r\n",
        "model.add(Dense(1024, activation='relu'))\r\n",
        "model.add(Dropout(0.8))\r\n",
        "\r\n",
        "model.add(Dense(3))\r\n",
        "model.add(Activation('softmax'))\r\n",
        "model.compile(loss='categorical_crossentropy', optimizer='adam')\r\n",
        "\r\n",
        "# Fit the model with early stopping callback\r\n",
        "earlystop = EarlyStopping(monitor='val_loss', min_delta=0, patience=3, verbose=0, mode='auto')\r\n",
        "model.fit(xtrain_pad, y=ytrain_enc, batch_size=512, epochs=100, \r\n",
        "          verbose=1, validation_data=(xvalid_pad, yvalid_enc), callbacks=[earlystop])"
      ],
      "execution_count": null,
      "outputs": []
    },
    {
      "cell_type": "code",
      "metadata": {
        "id": "Xm4IzHfy1dvM"
      },
      "source": [
        "# A simple bidirectional LSTM with glove embeddings and two dense layers\r\n",
        "model = Sequential()\r\n",
        "model.add(Embedding(len(word_index) + 1,\r\n",
        "                     300,\r\n",
        "                     weights=[embedding_matrix],\r\n",
        "                     input_length=max_len,\r\n",
        "                     trainable=False))\r\n",
        "model.add(SpatialDropout1D(0.3))\r\n",
        "model.add(Bidirectional(LSTM(300, dropout=0.3, recurrent_dropout=0.3)))\r\n",
        "\r\n",
        "model.add(Dense(1024, activation='relu'))\r\n",
        "model.add(Dropout(0.8))\r\n",
        "\r\n",
        "model.add(Dense(1024, activation='relu'))\r\n",
        "model.add(Dropout(0.8))\r\n",
        "\r\n",
        "model.add(Dense(3))\r\n",
        "model.add(Activation('softmax'))\r\n",
        "model.compile(loss='categorical_crossentropy', optimizer='adam')\r\n",
        "\r\n",
        "# Fit the model with early stopping callback\r\n",
        "earlystop = EarlyStopping(monitor='val_loss', min_delta=0, patience=3, verbose=0, mode='auto')\r\n",
        "model.fit(xtrain_pad, y=ytrain_enc, batch_size=512, epochs=100, \r\n",
        "          verbose=1, validation_data=(xvalid_pad, yvalid_enc), callbacks=[earlystop])"
      ],
      "execution_count": null,
      "outputs": []
    },
    {
      "cell_type": "code",
      "metadata": {
        "id": "BnQ6LOKS1i61"
      },
      "source": [
        "# GRU with glove embeddings and two dense layers\r\n",
        "model = Sequential()\r\n",
        "model.add(Embedding(len(word_index) + 1,\r\n",
        "                     300,\r\n",
        "                     weights=[embedding_matrix],\r\n",
        "                     input_length=max_len,\r\n",
        "                     trainable=False))\r\n",
        "model.add(SpatialDropout1D(0.3))\r\n",
        "model.add(GRU(300, dropout=0.3, recurrent_dropout=0.3, return_sequences=True))\r\n",
        "model.add(GRU(300, dropout=0.3, recurrent_dropout=0.3))\r\n",
        "\r\n",
        "model.add(Dense(1024, activation='relu'))\r\n",
        "model.add(Dropout(0.8))\r\n",
        "\r\n",
        "model.add(Dense(1024, activation='relu'))\r\n",
        "model.add(Dropout(0.8))\r\n",
        "\r\n",
        "model.add(Dense(3))\r\n",
        "model.add(Activation('softmax'))\r\n",
        "model.compile(loss='categorical_crossentropy', optimizer='adam')\r\n",
        "\r\n",
        "# Fit the model with early stopping callback\r\n",
        "earlystop = EarlyStopping(monitor='val_loss', min_delta=0, patience=3, verbose=0, mode='auto')\r\n",
        "model.fit(xtrain_pad, y=ytrain_enc, batch_size=512, epochs=100, \r\n",
        "          verbose=1, validation_data=(xvalid_pad, yvalid_enc), callbacks=[earlystop])"
      ],
      "execution_count": null,
      "outputs": []
    }
  ]
}