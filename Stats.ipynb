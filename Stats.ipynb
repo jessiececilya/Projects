{
  "nbformat": 4,
  "nbformat_minor": 0,
  "metadata": {
    "colab": {
      "name": "Stats",
      "provenance": [],
      "collapsed_sections": [],
      "authorship_tag": "ABX9TyOIMvjJAn7mkkTK+mZgLSM1",
      "include_colab_link": true
    },
    "kernelspec": {
      "name": "python3",
      "display_name": "Python 3"
    }
  },
  "cells": [
    {
      "cell_type": "markdown",
      "metadata": {
        "id": "view-in-github",
        "colab_type": "text"
      },
      "source": [
        "<a href=\"https://colab.research.google.com/github/jessiececilya/Projects/blob/main/Stats.ipynb\" target=\"_parent\"><img src=\"https://colab.research.google.com/assets/colab-badge.svg\" alt=\"Open In Colab\"/></a>"
      ]
    },
    {
      "cell_type": "code",
      "metadata": {
        "id": "YVtTWyBZhZMi"
      },
      "source": [
        "import statistics\r\n"
      ],
      "execution_count": null,
      "outputs": []
    },
    {
      "cell_type": "code",
      "metadata": {
        "id": "4UcnOVI-hibA"
      },
      "source": [
        "m=[4, 8, 6, 5, 3, 2, 8, 9, 2, 5,50,6]"
      ],
      "execution_count": null,
      "outputs": []
    },
    {
      "cell_type": "code",
      "metadata": {
        "colab": {
          "base_uri": "https://localhost:8080/"
        },
        "id": "-wq_vpqDhqlZ",
        "outputId": "95c446d4-1593-4e34-bc03-0455634ffb75"
      },
      "source": [
        "statistics.stdev([1,2,3,4,5,6])"
      ],
      "execution_count": null,
      "outputs": [
        {
          "output_type": "execute_result",
          "data": {
            "text/plain": [
              "1.8708286933869707"
            ]
          },
          "metadata": {
            "tags": []
          },
          "execution_count": 3
        }
      ]
    },
    {
      "cell_type": "code",
      "metadata": {
        "id": "HS-dH-8dhvX-"
      },
      "source": [
        "import matplotlib.pyplot as plt"
      ],
      "execution_count": null,
      "outputs": []
    },
    {
      "cell_type": "code",
      "metadata": {
        "id": "BaRTZ2Q-jU-3"
      },
      "source": [
        "a=[1,2,5,6,7,9,12,35,58,100,18,65]\r\n"
      ],
      "execution_count": null,
      "outputs": []
    },
    {
      "cell_type": "code",
      "metadata": {
        "colab": {
          "base_uri": "https://localhost:8080/",
          "height": 402
        },
        "id": "6BFNcnH9javV",
        "outputId": "38a5c3a1-b12f-448e-a96a-56560f835bec"
      },
      "source": [
        "plt.boxplot(m, vert=False)"
      ],
      "execution_count": null,
      "outputs": [
        {
          "output_type": "execute_result",
          "data": {
            "text/plain": [
              "{'boxes': [<matplotlib.lines.Line2D at 0x7f5d3cd05390>],\n",
              " 'caps': [<matplotlib.lines.Line2D at 0x7f5d3cd0a3d0>,\n",
              "  <matplotlib.lines.Line2D at 0x7f5d3cd0a910>],\n",
              " 'fliers': [<matplotlib.lines.Line2D at 0x7f5d3cd12410>],\n",
              " 'means': [],\n",
              " 'medians': [<matplotlib.lines.Line2D at 0x7f5d3cd0ae90>],\n",
              " 'whiskers': [<matplotlib.lines.Line2D at 0x7f5d3cd05910>,\n",
              "  <matplotlib.lines.Line2D at 0x7f5d3cd05e50>]}"
            ]
          },
          "metadata": {
            "tags": []
          },
          "execution_count": 14
        },
        {
          "output_type": "display_data",
          "data": {
            "image/png": "[encoded data removed]",
            "text/plain": [
              "<Figure size 432x288 with 1 Axes>"
            ]
          },
          "metadata": {
            "tags": [],
            "needs_background": "light"
          }
        }
      ]
    },
    {
      "cell_type": "code",
      "metadata": {
        "id": "u1gi29qQjdLg"
      },
      "source": [
        "import numpy as np\r\n",
        "import pandas as pd"
      ],
      "execution_count": null,
      "outputs": []
    },
    {
      "cell_type": "code",
      "metadata": {
        "colab": {
          "base_uri": "https://localhost:8080/"
        },
        "id": "Z6Ield5rlgdU",
        "outputId": "20fc026a-39b4-45cf-d542-519ebd3c10a5"
      },
      "source": [
        "np.cov(a,m)"
      ],
      "execution_count": null,
      "outputs": [
        {
          "output_type": "execute_result",
          "data": {
            "text/plain": [
              "array([[1004.63636364,  -38.72727273],\n",
              "       [ -38.72727273,  172.        ]])"
            ]
          },
          "metadata": {
            "tags": []
          },
          "execution_count": 18
        }
      ]
    },
    {
      "cell_type": "code",
      "metadata": {
        "id": "ZXfR2-JElqbT"
      },
      "source": [
        "b= np.arange(1,13,1)"
      ],
      "execution_count": null,
      "outputs": []
    },
    {
      "cell_type": "code",
      "metadata": {
        "id": "9kw8epTcl3aU"
      },
      "source": [
        "z= pd.DataFrame(a, index=b)"
      ],
      "execution_count": null,
      "outputs": []
    },
    {
      "cell_type": "code",
      "metadata": {
        "colab": {
          "base_uri": "https://localhost:8080/",
          "height": 419
        },
        "id": "xzXv45wTl3ul",
        "outputId": "b10d60e1-2f0e-4308-f0f3-741806689414"
      },
      "source": [
        "z"
      ],
      "execution_count": null,
      "outputs": [
        {
          "output_type": "execute_result",
          "data": {
            "text/html": [
              "<div>\n",
              "<style scoped>\n",
              "    .dataframe tbody tr th:only-of-type {\n",
              "        vertical-align: middle;\n",
              "    }\n",
              "\n",
              "    .dataframe tbody tr th {\n",
              "        vertical-align: top;\n",
              "    }\n",
              "\n",
              "    .dataframe thead th {\n",
              "        text-align: right;\n",
              "    }\n",
              "</style>\n",
              "<table border=\"1\" class=\"dataframe\">\n",
              "  <thead>\n",
              "    <tr style=\"text-align: right;\">\n",
              "      <th></th>\n",
              "      <th>0</th>\n",
              "    </tr>\n",
              "  </thead>\n",
              "  <tbody>\n",
              "    <tr>\n",
              "      <th>1</th>\n",
              "      <td>1</td>\n",
              "    </tr>\n",
              "    <tr>\n",
              "      <th>2</th>\n",
              "      <td>2</td>\n",
              "    </tr>\n",
              "    <tr>\n",
              "      <th>3</th>\n",
              "      <td>5</td>\n",
              "    </tr>\n",
              "    <tr>\n",
              "      <th>4</th>\n",
              "      <td>6</td>\n",
              "    </tr>\n",
              "    <tr>\n",
              "      <th>5</th>\n",
              "      <td>7</td>\n",
              "    </tr>\n",
              "    <tr>\n",
              "      <th>6</th>\n",
              "      <td>9</td>\n",
              "    </tr>\n",
              "    <tr>\n",
              "      <th>7</th>\n",
              "      <td>12</td>\n",
              "    </tr>\n",
              "    <tr>\n",
              "      <th>8</th>\n",
              "      <td>35</td>\n",
              "    </tr>\n",
              "    <tr>\n",
              "      <th>9</th>\n",
              "      <td>58</td>\n",
              "    </tr>\n",
              "    <tr>\n",
              "      <th>10</th>\n",
              "      <td>100</td>\n",
              "    </tr>\n",
              "    <tr>\n",
              "      <th>11</th>\n",
              "      <td>18</td>\n",
              "    </tr>\n",
              "    <tr>\n",
              "      <th>12</th>\n",
              "      <td>65</td>\n",
              "    </tr>\n",
              "  </tbody>\n",
              "</table>\n",
              "</div>"
            ],
            "text/plain": [
              "      0\n",
              "1     1\n",
              "2     2\n",
              "3     5\n",
              "4     6\n",
              "5     7\n",
              "6     9\n",
              "7    12\n",
              "8    35\n",
              "9    58\n",
              "10  100\n",
              "11   18\n",
              "12   65"
            ]
          },
          "metadata": {
            "tags": []
          },
          "execution_count": 27
        }
      ]
    },
    {
      "cell_type": "code",
      "metadata": {
        "id": "OpTn14VlmPz3",
        "colab": {
          "base_uri": "https://localhost:8080/"
        },
        "outputId": "c40980a4-e203-461c-cc59-86a84cec6b7c"
      },
      "source": [
        "from scipy.stats import binom\r\n",
        "binom.pmf(3,16,1/6)\r\n",
        "# pmf(x,n,p) where x-success n-trials"
      ],
      "execution_count": null,
      "outputs": [
        {
          "output_type": "execute_result",
          "data": {
            "text/plain": [
              "0.2423137603371325"
            ]
          },
          "metadata": {
            "tags": []
          },
          "execution_count": 1
        }
      ]
    },
    {
      "cell_type": "code",
      "metadata": {
        "colab": {
          "base_uri": "https://localhost:8080/"
        },
        "id": "aFg6FC9pWINo",
        "outputId": "8e2182fc-8043-48e8-9be6-feee99c83078"
      },
      "source": [
        "from scipy.stats import poisson\r\n",
        "poisson.pmf(4,8)"
      ],
      "execution_count": null,
      "outputs": [
        {
          "output_type": "execute_result",
          "data": {
            "text/plain": [
              "0.057252288495362"
            ]
          },
          "metadata": {
            "tags": []
          },
          "execution_count": 2
        }
      ]
    },
    {
      "cell_type": "code",
      "metadata": {
        "colab": {
          "base_uri": "https://localhost:8080/"
        },
        "id": "Arcjq0_YaLB9",
        "outputId": "23b40d94-3c5b-4884-c685-c04b7489ba43"
      },
      "source": [
        "poisson.cdf(2,8)"
      ],
      "execution_count": null,
      "outputs": [
        {
          "output_type": "execute_result",
          "data": {
            "text/plain": [
              "0.013753967744002971"
            ]
          },
          "metadata": {
            "tags": []
          },
          "execution_count": 4
        }
      ]
    },
    {
      "cell_type": "code",
      "metadata": {
        "colab": {
          "base_uri": "https://localhost:8080/"
        },
        "id": "tniTiFMyaNJu",
        "outputId": "bb9c9e24-7501-423f-9035-32b0a0be97a1"
      },
      "source": [
        "poisson.pmf(0,8/12)"
      ],
      "execution_count": null,
      "outputs": [
        {
          "output_type": "execute_result",
          "data": {
            "text/plain": [
              "0.513417119032592"
            ]
          },
          "metadata": {
            "tags": []
          },
          "execution_count": 5
        }
      ]
    },
    {
      "cell_type": "code",
      "metadata": {
        "colab": {
          "base_uri": "https://localhost:8080/"
        },
        "id": "PmX4yUUPaWV_",
        "outputId": "0a3c3e6a-575a-421b-f200-749da3c258d6"
      },
      "source": [
        "from scipy import stats\r\n",
        "z=0.70\r\n",
        "stats.norm.cdf(z)\r\n",
        "#this gives percentile"
      ],
      "execution_count": null,
      "outputs": [
        {
          "output_type": "execute_result",
          "data": {
            "text/plain": [
              "0.758036347776927"
            ]
          },
          "metadata": {
            "tags": []
          },
          "execution_count": 9
        }
      ]
    },
    {
      "cell_type": "code",
      "metadata": {
        "colab": {
          "base_uri": "https://localhost:8080/"
        },
        "id": "bn8OKEZGd7oE",
        "outputId": "e197d980-035e-4f0b-8ceb-69981dd0e350"
      },
      "source": [
        "p=0.95\r\n",
        "stats.norm.ppf(p)\r\n",
        "#This gives z score"
      ],
      "execution_count": null,
      "outputs": [
        {
          "output_type": "execute_result",
          "data": {
            "text/plain": [
              "1.6448536269514722"
            ]
          },
          "metadata": {
            "tags": []
          },
          "execution_count": 8
        }
      ]
    },
    {
      "cell_type": "code",
      "metadata": {
        "id": "vL-cBp95eGXa"
      },
      "source": [
        "data= [1,2,3,4,5,6,7]\r\n",
        "import numpy as np\r\n",
        "y=stats.zscore(data)"
      ],
      "execution_count": null,
      "outputs": []
    },
    {
      "cell_type": "code",
      "metadata": {
        "colab": {
          "base_uri": "https://localhost:8080/",
          "height": 282
        },
        "id": "OfCsQhDofELY",
        "outputId": "202d481c-9afa-435c-bbdb-722bbefd45b6"
      },
      "source": [
        "import matplotlib.pyplot as plt\r\n",
        "plt.bar(data, abs(y) )"
      ],
      "execution_count": null,
      "outputs": [
        {
          "output_type": "execute_result",
          "data": {
            "text/plain": [
              "<BarContainer object of 7 artists>"
            ]
          },
          "metadata": {
            "tags": []
          },
          "execution_count": 17
        },
        {
          "output_type": "display_data",
          "data": {
            "image/png": "[encoded data removed]",
            "text/plain": [
              "<Figure size 432x288 with 1 Axes>"
            ]
          },
          "metadata": {
            "tags": [],
            "needs_background": "light"
          }
        }
      ]
    },
    {
      "cell_type": "code",
      "metadata": {
        "id": "nwj5-ooWfPVS",
        "colab": {
          "base_uri": "https://localhost:8080/"
        },
        "outputId": "812e2b4f-71cb-4fae-ae01-f10406d85241"
      },
      "source": [
        "from scipy.stats import ttest_ind\r\n",
        "a= [1184, 1203, 1219, 1248]\r\n",
        "b=[1136,1178, 1212, 1148]\r\n",
        "#one tailed test\r\n",
        "ttest_ind(a,b).statistic"
      ],
      "execution_count": 2,
      "outputs": [
        {
          "output_type": "execute_result",
          "data": {
            "text/plain": [
              "2.072024666619891"
            ]
          },
          "metadata": {
            "tags": []
          },
          "execution_count": 2
        }
      ]
    },
    {
      "cell_type": "code",
      "metadata": {
        "colab": {
          "base_uri": "https://localhost:8080/"
        },
        "id": "n7Y6VvQC7ByT",
        "outputId": "f87a8ebc-48fc-4166-8e8d-689407217717"
      },
      "source": [
        "#to do two tailed test\r\n",
        "ttest_ind(a,b).pvalue/2"
      ],
      "execution_count": 4,
      "outputs": [
        {
          "output_type": "execute_result",
          "data": {
            "text/plain": [
              "0.041826378280798694"
            ]
          },
          "metadata": {
            "tags": []
          },
          "execution_count": 4
        }
      ]
    },
    {
      "cell_type": "code",
      "metadata": {
        "colab": {
          "base_uri": "https://localhost:8080/"
        },
        "id": "muew-g-_7LYT",
        "outputId": "cbc83c77-4674-43bf-d010-bcca3c48637b"
      },
      "source": [
        "from scipy import stats\r\n",
        "\r\n",
        "#get f score for dfnumerator dfdenominator at a particular significance level)\r\n",
        "stats.f.ppf(1-.05, dfn=2,dfd=27)"
      ],
      "execution_count": 6,
      "outputs": [
        {
          "output_type": "execute_result",
          "data": {
            "text/plain": [
              "3.3541308285291986"
            ]
          },
          "metadata": {
            "tags": []
          },
          "execution_count": 6
        }
      ]
    },
    {
      "cell_type": "code",
      "metadata": {
        "colab": {
          "base_uri": "https://localhost:8080/"
        },
        "id": "qs5OzM5m-i58",
        "outputId": "a27d5ac0-e835-44e7-81ea-ca75821ed0b8"
      },
      "source": [
        "from scipy.stats import linregress\r\n",
        "x=[34,35,42,47]\r\n",
        "y=[102,109, 148,158]\r\n",
        "slope= round(linregress(x,y).slope,1)\r\n",
        "intercept= round(linregress(x,y).intercept,1)\r\n",
        "slope, intercept"
      ],
      "execution_count": 10,
      "outputs": [
        {
          "output_type": "execute_result",
          "data": {
            "text/plain": [
              "(4.5, -46.8)"
            ]
          },
          "metadata": {
            "tags": []
          },
          "execution_count": 10
        }
      ]
    },
    {
      "cell_type": "code",
      "metadata": {
        "colab": {
          "base_uri": "https://localhost:8080/"
        },
        "id": "s87h3RsIPMKl",
        "outputId": "bfa53b37-2ab8-444e-e16d-a261e07372b4"
      },
      "source": [
        "from sklearn.linear_model import LinearRegression\n",
        "x1, x2= [1,3,2,3,1], [8,4,9,6,3]\n",
        "y=[29,31,36,35,19]\n",
        "\n",
        "reg= LinearRegression()\n",
        "reg.fit(list(zip(x1,x2)),y)\n",
        "b1,b2= reg.coef_[0], reg.coef_[1]\n",
        "b0= reg.intercept_\n",
        "print(\"{}+{}x+{}x2\".format(b0,b1,b2))"
      ],
      "execution_count": 11,
      "outputs": [
        {
          "output_type": "stream",
          "text": [
            "7.999999999999993+5.0x+2.000000000000001x2\n"
          ],
          "name": "stdout"
        }
      ]
    },
    {
      "cell_type": "code",
      "metadata": {
        "colab": {
          "base_uri": "https://localhost:8080/"
        },
        "id": "_jFkYoBYPYMM",
        "outputId": "88761c0e-7c9a-4904-963d-89ae28cf0e11"
      },
      "source": [
        "from scipy.stats import chi2\r\n",
        "chi2.isf(0.05,5)"
      ],
      "execution_count": 12,
      "outputs": [
        {
          "output_type": "execute_result",
          "data": {
            "text/plain": [
              "11.070497693516355"
            ]
          },
          "metadata": {
            "tags": []
          },
          "execution_count": 12
        }
      ]
    },
    {
      "cell_type": "code",
      "metadata": {
        "id": "WuN4TewYTn7h"
      },
      "source": [
        ""
      ],
      "execution_count": null,
      "outputs": []
    }
  ]
}